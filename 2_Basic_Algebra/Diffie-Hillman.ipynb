{
 "cells": [
  {
   "cell_type": "markdown",
   "id": "c51d3992",
   "metadata": {},
   "source": [
    "# Cryptography - Diffie-Hillman "
   ]
  },
  {
   "cell_type": "markdown",
   "id": "ca71f31e",
   "metadata": {},
   "source": [
    "### Bob and Alice are trying to connect to each other securely. Thus, they have to encrypt and decrypt the messages they are sending to each other. For this reason, they would need key to decrypt the message, but no one else should have that specific key. They both have public and private keys..."
   ]
  },
  {
   "cell_type": "markdown",
   "id": "8d07f995",
   "metadata": {},
   "source": [
    "## Example:\n",
    "\n",
    "### Public key:\n",
    "* Prime modulus (p) = 17\n",
    "* Generator (g) = 3 \n",
    "\n",
    "$-> 3^x mod 17$\n",
    "\n",
    "### Private key:\n",
    "* Alice $ - > $ A = 15\n",
    "* Bob $ - > $ B = 13\n",
    "\n"
   ]
  },
  {
   "cell_type": "markdown",
   "id": "61d3ebb5",
   "metadata": {},
   "source": [
    "### Alice $-> 3^A mod 17 = 6$\n",
    "\n",
    "### Bob $-> 3^B mod 17 = 12$\n",
    "\n",
    "\n",
    "### Alice $ 12^A mod 17 = 10 $ \n",
    "\n",
    "### Bob $ 6^B mod 17 = 10 $\n",
    "\n",
    "### They both have the same result in the end. Thus, no one else has it."
   ]
  },
  {
   "cell_type": "code",
   "execution_count": null,
   "id": "ea2569f4",
   "metadata": {},
   "outputs": [],
   "source": []
  }
 ],
 "metadata": {
  "kernelspec": {
   "display_name": "Python 3 (ipykernel)",
   "language": "python",
   "name": "python3"
  },
  "language_info": {
   "codemirror_mode": {
    "name": "ipython",
    "version": 3
   },
   "file_extension": ".py",
   "mimetype": "text/x-python",
   "name": "python",
   "nbconvert_exporter": "python",
   "pygments_lexer": "ipython3",
   "version": "3.8.5"
  }
 },
 "nbformat": 4,
 "nbformat_minor": 5
}
