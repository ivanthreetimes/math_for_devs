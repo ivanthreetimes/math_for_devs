{
 "cells": [
  {
   "cell_type": "code",
   "execution_count": 1,
   "metadata": {},
   "outputs": [],
   "source": [
    "%matplotlib inline"
   ]
  },
  {
   "cell_type": "code",
   "execution_count": 2,
   "metadata": {},
   "outputs": [],
   "source": [
    "import numpy as np\n",
    "import matplotlib.pyplot as plt\n",
    "import pandas as pd\n",
    "# Write yor imports here"
   ]
  },
  {
   "cell_type": "markdown",
   "metadata": {},
   "source": [
    "# Statistics Exercise\n",
    "## Statistical Distributions. Properties of distributions. Applications of Probability and Statistics in Computer Science"
   ]
  },
  {
   "cell_type": "markdown",
   "metadata": {},
   "source": [
    "### Problem 1. Plotting a Single Distribution. Digits in $\\pi$ and $e$\n",
    "We expect that the decimal digits in $\\pi$ and $e$ will be randomly distributed and there's no reason for any digit to dominate over others. Let's verify this.\n",
    "\n",
    "Using an algorithm, the first 10 004 digits of $\\pi$ and $e$ were generated:\n",
    "$$\n",
    "\\pi = 3.(141592 \\dots 5678)5667\n",
    "$$\n",
    "$$\n",
    "e = 2.(718281 \\dots 6788)5674\n",
    "$$\n",
    "\n",
    "The 10 000 digits in brackets were counted. You can see the results in `digits.dat`. Each column corresponds to one digit from 0 to 9. The first row is for $\\pi$ and the second row is for $e$.\n",
    "\n",
    "How are these digits distributed? Are the two distributions different?\n",
    "\n",
    "**Note:** The dataset is **not properly formatted** to work easily. You can transpose it. Now, digit counts will be in rows and variables - in columns. \n",
    "```python\n",
    "digits = pd.read_table(\"digits.dat\", header = None).T\n",
    "```\n",
    "\n",
    "You can also specify column names like this:\n",
    "```python\n",
    "digits.columns = [\"pi\", \"e\"]\n",
    "```\n",
    "\n",
    "Also note that **we are not creating the histogram of the distribution**. We already have the counts, we need to plot them. In a sense, the histogram has already been calculated.\n",
    "\n",
    "To do this, we can create a \"bar chart\" (using `plt.bar()`). We have to provide values for the x-axis and y-axis. For the x-axis, we have the numbers 0 through 9 (we can use the *index* of the dataset like this: `digits.index`). For the y-axis, we need to plot the digit counts directly.\n",
    "\n",
    "We can see that even the simplest datasets sometimes need a bit of preprocessing. This is always the case when we're working with data."
   ]
  },
  {
   "cell_type": "code",
   "execution_count": 83,
   "metadata": {},
   "outputs": [],
   "source": [
    "digits = pd.read_csv(\"digits.dat\", sep=\"\\t\", header=None).T\n",
    "digits.columns = [\"pi\", \"e\"]"
   ]
  },
  {
   "cell_type": "code",
   "execution_count": 84,
   "metadata": {},
   "outputs": [],
   "source": [
    "def plot_distribution(digits_column, number):\n",
    "    plt.bar(digits_column.index ,digits_column, color=\"blue\", label= number)\n",
    "    plt.axhline(y=digits_column.mean(), color=\"red\", label=\"Mean\")\n",
    "    \n",
    "    \n",
    "    plt.title(f\"Distribution of digiits in {number}\")\n",
    "    plt.xticks(digits_column.index)\n",
    "    plt.ylabel(\"Digits\")\n",
    "    plt.xlabel(\"Count\")\n",
    "    plt.legend(loc=\"lower left\")\n",
    "    plt.show()"
   ]
  },
  {
   "cell_type": "code",
   "execution_count": 85,
   "metadata": {},
   "outputs": [
    {
     "data": {
      "image/png": "[encoded data removed]",
      "text/plain": [
       "<Figure size 432x288 with 1 Axes>"
      ]
     },
     "metadata": {
      "needs_background": "light"
     },
     "output_type": "display_data"
    },
    {
     "data": {
      "image/png": "[encoded data removed]",
      "text/plain": [
       "<Figure size 432x288 with 1 Axes>"
      ]
     },
     "metadata": {
      "needs_background": "light"
     },
     "output_type": "display_data"
    }
   ],
   "source": [
    "plot_distribution(digits.pi, \"$\\pi$\")\n",
    "plot_distribution(digits[\"e\"], \"$e$\")"
   ]
  },
  {
   "cell_type": "markdown",
   "metadata": {},
   "source": [
    "Let's try something else. Scientists have measured the percentage of silica ($\\text{SiO}_2$, sand / glass) for 22 meteors. You can find it in `silica.dat`. How are these distributed? What is a \"typical\" percentage? Is there such percentage at all?\n",
    "\n",
    "Print the mean, standard deviation (you can use the biased or unbiased formula), skewness and kurtosis of the distribution. What do these numbers tell you? How do they relateto the shape of the distribution? Can you characterize the distribution better? (An idea would be to characterize different parts of it on their own, as if they're different distributions.)"
   ]
  },
  {
   "cell_type": "code",
   "execution_count": 102,
   "metadata": {},
   "outputs": [],
   "source": [
    "meteors_data = pd.read_csv(\"silica.dat\", header=None)\n",
    "meteors_data.columns = [\"Content\"]"
   ]
  },
  {
   "cell_type": "code",
   "execution_count": 110,
   "metadata": {},
   "outputs": [
    {
     "name": "stdout",
     "output_type": "stream",
     "text": [
      "29.165000000000006 4.29153513436903 -0.44644211385029625 -0.9242970726953743\n"
     ]
    }
   ],
   "source": [
    "mean = meteors_data[\"Content\"].mean()\n",
    "standard_diviation = meteors_data[\"Content\"].std()\n",
    "skewness = meteors_data[\"Content\"].skew()\n",
    "kurtosis = meteors_data[\"Content\"].kurt()\n",
    "print(mean, standard_diviation, skewness, kurtosis)"
   ]
  },
  {
   "cell_type": "code",
   "execution_count": 115,
   "metadata": {},
   "outputs": [
    {
     "data": {
      "image/png": "[encoded data removed]",
      "text/plain": [
       "<Figure size 432x288 with 1 Axes>"
      ]
     },
     "metadata": {
      "needs_background": "light"
     },
     "output_type": "display_data"
    }
   ],
   "source": [
    "plt.hist(meteors_data, bins=23)\n",
    "plt.xlabel(\"Percentage of sillica.\")\n",
    "plt.ylabel(\"Count of meteors\")\n",
    "plt.show()"
   ]
  },
  {
   "cell_type": "markdown",
   "metadata": {},
   "source": [
    "### Problem 2. Categorical Variables. Comparing Categories\n",
    "In addition to numeric variables (like age and salary), in statistics we also use **categorical variables**. These are descriptions of quality (as opposed to quantity). Such variables can be gender, smoker / non-smoker, results of a medical study (healthy / not healthy), colors (red, green, blue), etc. To plot values of categories, we use *bar charts*. Since category names can be long, it's sometimes useful to plot the lines horizontally.\n",
    "\n",
    "<p style=\"color: #d9534f\"><strong>There is a very significant difference between histograms and bar charts. Histograms are used to plot the frequency distribution of one numeric variable. Bar charts are used to plot categorical variables - how each value compares to other values.</strong></p>\n",
    "\n",
    "The dataset `budget.dat` contains the figures for the eight main items in the US budget for 1978 and 1979 in billions\n",
    "of dollars.\n",
    "\n",
    "Display the two budgets separately. Use `xlabel()` (or `ylabel()` if your plot is horizontal) to write the names of each category. You can use [this](https://matplotlib.org/examples/pylab_examples/barchart_demo.html) and [this](https://matplotlib.org/examples/pylab_examples/barchart_demo2.html) examples as a guide.\n",
    "\n",
    "Create another variable which shows the difference in budget $\\Delta b = b_{1979} - b_{1978}$. Add this variable to the dataset (find out how). Plot it. How does the budget differ?\n",
    "\n",
    "Since the numbers are different, a better comparison will be if we convert them to percentages of the total budget. Create two more variables for 1978 and 1979 and add them to the dataset. Plot these now. Also plot the difference in percentage, like you did before."
   ]
  },
  {
   "cell_type": "code",
   "execution_count": 157,
   "metadata": {},
   "outputs": [
    {
     "data": {
      "image/png": "[encoded data removed]",
      "text/plain": [
       "<Figure size 432x288 with 1 Axes>"
      ]
     },
     "metadata": {
      "needs_background": "light"
     },
     "output_type": "display_data"
    }
   ],
   "source": [
    "budget = pd.read_csv(\"budget.dat\", sep=\"\\t\")\n",
    "\n",
    "x_axis = np.arange(len(budget[\"Category\"]))\n",
    "\n",
    "plt.bar(x_axis - 0.2, budget[\"1978\"], 0.4, label=\"1978\")\n",
    "plt.bar(x_axis + 0.2, budget[\"1979\"], 0.4, label=\"1979\")\n",
    "\n",
    "plt.title(\"US Budget\")\n",
    "plt.xticks(x_axis, budget[\"Category\"], rotation=270)\n",
    "plt.legend()\n",
    "plt.show()"
   ]
  },
  {
   "cell_type": "markdown",
   "metadata": {},
   "source": [
    "### Problem 3. Correlations between Variables. Alcohol and Tobacco Usage\n",
    "The dataset `alcohol_tobacco.dat` shows the average weekly household spending, in British pounds, on tobacco products and alcoholic beverages for each of the 11 regions of Great Britain.\n",
    "\n",
    "Create a scatter plot. Print the correlation coefficient. You can use the **correlation matrix** (find out how).\n",
    "\n",
    "There's a major outlier. Which one is it?\n",
    "\n",
    "Remove the outlier from the dataset (find out how). Calculate the correlation coefficient once again. It should be much higher.\n",
    "\n",
    "This example is useful to show what an outlier is, and how an outlier can influence the results of an experiment.\n",
    "\n",
    "**Note:** Be careful with outliers. Sometimes they indicate human error (e.g. human height 1588 cm is obviously wrong) but sometimes they indicate important patterns in the data. Should you remove, replace, or leave them is a difficult question and should be answered separately for each dataset."
   ]
  },
  {
   "cell_type": "code",
   "execution_count": 174,
   "metadata": {},
   "outputs": [
    {
     "data": {
      "text/html": [
       "<div>\n",
       "<style scoped>\n",
       "    .dataframe tbody tr th:only-of-type {\n",
       "        vertical-align: middle;\n",
       "    }\n",
       "\n",
       "    .dataframe tbody tr th {\n",
       "        vertical-align: top;\n",
       "    }\n",
       "\n",
       "    .dataframe thead th {\n",
       "        text-align: right;\n",
       "    }\n",
       "</style>\n",
       "<table border=\"1\" class=\"dataframe\">\n",
       "  <thead>\n",
       "    <tr style=\"text-align: right;\">\n",
       "      <th></th>\n",
       "      <th>Region</th>\n",
       "      <th>Alcohol</th>\n",
       "      <th>Tobacco</th>\n",
       "    </tr>\n",
       "  </thead>\n",
       "  <tbody>\n",
       "    <tr>\n",
       "      <th>0</th>\n",
       "      <td>North</td>\n",
       "      <td>6.47</td>\n",
       "      <td>4.03</td>\n",
       "    </tr>\n",
       "    <tr>\n",
       "      <th>1</th>\n",
       "      <td>Yorkshire</td>\n",
       "      <td>6.13</td>\n",
       "      <td>3.76</td>\n",
       "    </tr>\n",
       "    <tr>\n",
       "      <th>2</th>\n",
       "      <td>Northeast</td>\n",
       "      <td>6.19</td>\n",
       "      <td>3.77</td>\n",
       "    </tr>\n",
       "    <tr>\n",
       "      <th>3</th>\n",
       "      <td>East Midlands</td>\n",
       "      <td>4.89</td>\n",
       "      <td>3.34</td>\n",
       "    </tr>\n",
       "    <tr>\n",
       "      <th>4</th>\n",
       "      <td>West Midlands</td>\n",
       "      <td>5.63</td>\n",
       "      <td>3.47</td>\n",
       "    </tr>\n",
       "    <tr>\n",
       "      <th>5</th>\n",
       "      <td>East Anglia</td>\n",
       "      <td>4.52</td>\n",
       "      <td>2.92</td>\n",
       "    </tr>\n",
       "    <tr>\n",
       "      <th>6</th>\n",
       "      <td>Southeast</td>\n",
       "      <td>5.89</td>\n",
       "      <td>3.20</td>\n",
       "    </tr>\n",
       "    <tr>\n",
       "      <th>7</th>\n",
       "      <td>Southwest</td>\n",
       "      <td>4.79</td>\n",
       "      <td>2.71</td>\n",
       "    </tr>\n",
       "    <tr>\n",
       "      <th>8</th>\n",
       "      <td>Wales</td>\n",
       "      <td>5.27</td>\n",
       "      <td>3.53</td>\n",
       "    </tr>\n",
       "    <tr>\n",
       "      <th>9</th>\n",
       "      <td>Scotland</td>\n",
       "      <td>6.08</td>\n",
       "      <td>4.51</td>\n",
       "    </tr>\n",
       "    <tr>\n",
       "      <th>10</th>\n",
       "      <td>Northern Ireland</td>\n",
       "      <td>4.02</td>\n",
       "      <td>4.56</td>\n",
       "    </tr>\n",
       "  </tbody>\n",
       "</table>\n",
       "</div>"
      ],
      "text/plain": [
       "              Region  Alcohol  Tobacco\n",
       "0              North     6.47     4.03\n",
       "1          Yorkshire     6.13     3.76\n",
       "2          Northeast     6.19     3.77\n",
       "3      East Midlands     4.89     3.34\n",
       "4      West Midlands     5.63     3.47\n",
       "5        East Anglia     4.52     2.92\n",
       "6          Southeast     5.89     3.20\n",
       "7          Southwest     4.79     2.71\n",
       "8              Wales     5.27     3.53\n",
       "9           Scotland     6.08     4.51\n",
       "10  Northern Ireland     4.02     4.56"
      ]
     },
     "execution_count": 174,
     "metadata": {},
     "output_type": "execute_result"
    }
   ],
   "source": [
    "usage_alcohol_tobacco = pd.read_csv(\"alcohol_tobacco.dat\", sep=\"\\t\")\n",
    "usage_alcohol_tobacco"
   ]
  },
  {
   "cell_type": "code",
   "execution_count": 175,
   "metadata": {},
   "outputs": [
    {
     "name": "stdout",
     "output_type": "stream",
     "text": [
      "          Alcohol   Tobacco\n",
      "Alcohol  1.000000  0.223572\n",
      "Tobacco  0.223572  1.000000\n"
     ]
    },
    {
     "data": {
      "image/png": "[encoded data removed]",
      "text/plain": [
       "<Figure size 432x288 with 1 Axes>"
      ]
     },
     "metadata": {
      "needs_background": "light"
     },
     "output_type": "display_data"
    }
   ],
   "source": [
    "plt.scatter(usage_alcohol_tobacco[\"Alcohol\"], usage_alcohol_tobacco[\"Tobacco\"])\n",
    "plt.xlabel(\"Alcohol\")\n",
    "plt.ylabel(\"Tobacco\")\n",
    "print(usage_alcohol_tobacco.corr())"
   ]
  },
  {
   "cell_type": "code",
   "execution_count": 176,
   "metadata": {},
   "outputs": [
    {
     "name": "stdout",
     "output_type": "stream",
     "text": [
      "          Alcohol   Tobacco\n",
      "Alcohol  1.000000  0.784287\n",
      "Tobacco  0.784287  1.000000\n"
     ]
    }
   ],
   "source": [
    "usage_alcohol_tobacco = usage_alcohol_tobacco.drop(10)\n",
    "print(usage_alcohol_tobacco.corr())"
   ]
  },
  {
   "cell_type": "code",
   "execution_count": 178,
   "metadata": {},
   "outputs": [
    {
     "data": {
      "text/plain": [
       "<matplotlib.collections.PathCollection at 0x1d847b9d8b0>"
      ]
     },
     "execution_count": 178,
     "metadata": {},
     "output_type": "execute_result"
    },
    {
     "data": {
      "image/png": "[encoded data removed]",
      "text/plain": [
       "<Figure size 432x288 with 1 Axes>"
      ]
     },
     "metadata": {
      "needs_background": "light"
     },
     "output_type": "display_data"
    }
   ],
   "source": [
    "plt.scatter(usage_alcohol_tobacco[\"Alcohol\"], usage_alcohol_tobacco[\"Tobacco\"])"
   ]
  },
  {
   "cell_type": "markdown",
   "metadata": {},
   "source": [
    "### Problem 4. Simulation\n",
    "Another prediction technique based on statistics, is simulation. This means recreating a system's parameters and running the experiment on a computer instead of running it in real life. Simulation can give us many insights. It's useful for prediction, \"what-if\" analysis, etc. It's also very useful if we have very limited \"real experimentation\" resources and want to narrow down our possibilities.\n",
    "\n",
    "Let's see how we can simulate the profit of a grocery shop.\n",
    "\n",
    "The profit is dependent on the customers and what items they buy. Let's assume that the number of customers per months follows a normal distribution with mean 500 and standard deviation 20.\n",
    "\n",
    "$$ C \\sim N(500, 20) $$\n",
    "\n",
    "In the shop, there are several items, each having a different popularity. The popularity represents the probability of buying each item.\n",
    "\n",
    "| Item               | Price | Popularity |\n",
    "|--------------------|-------|------------|\n",
    "| Bread              | 0.99  | 0.5        |\n",
    "| Milk               | 2.89  | 0.15       |\n",
    "| Eggs, dozen        | 2.00  | 0.2        |\n",
    "| Chicken fillet, kg | 6.39  | 0.15       |\n",
    "\n",
    "Each customer buys *exactly one* article at random. Each customer will generate an expected profit equal to $\\text{price} . \\text{popularity}$. Total profit: sum of all profits."
   ]
  },
  {
   "cell_type": "code",
   "execution_count": 179,
   "metadata": {},
   "outputs": [],
   "source": [
    "def get_customer_profit():\n",
    "    n = np.random.random()\n",
    "    if n <= 0.5:\n",
    "        return 0.99\n",
    "    elif n < 0.65:\n",
    "        return 2.89\n",
    "    elif n <= 0.85:\n",
    "        return 2\n",
    "    else:\n",
    "        return 6.39"
   ]
  },
  {
   "cell_type": "code",
   "execution_count": 180,
   "metadata": {},
   "outputs": [],
   "source": [
    "days = 1000\n",
    "def run_simulation():\n",
    "    profits = []\n",
    "    for day in range(days):\n",
    "        customers = np.floor(np.random.normal(500, 20))\n",
    "        profit = sum([get_customer_profit() for c in np.arange(customers)])\n",
    "        profits.append(profit)\n",
    "    return profits"
   ]
  },
  {
   "cell_type": "code",
   "execution_count": 181,
   "metadata": {},
   "outputs": [
    {
     "data": {
      "image/png": "[encoded data removed]",
      "text/plain": [
       "<Figure size 432x288 with 1 Axes>"
      ]
     },
     "metadata": {
      "needs_background": "light"
     },
     "output_type": "display_data"
    }
   ],
   "source": [
    "profits = run_simulation()\n",
    "plt.hist(profits, bins = 50)\n",
    "plt.xlabel(\"Profit for \" + str(days) + \" days [$]\")\n",
    "plt.ylabel(\"Count\")\n",
    "plt.show()"
   ]
  },
  {
   "cell_type": "markdown",
   "metadata": {},
   "source": [
    "Now we can answer questions like:\n",
    "* What's the probability of profit less than \\$1100? \n",
    "* What's the probability of profit between \\$1300 and \\$1400?\n",
    "\n",
    "We can also change our model. Let's suppose now that one customer can take 1, 2 or 3 items, with probabilities 0.5, 0.3 and 0.2 respectively. The picked items are independent. How does this change the distribution?"
   ]
  },
  {
   "cell_type": "code",
   "execution_count": 182,
   "metadata": {},
   "outputs": [],
   "source": [
    "def get_customer_profit_many_items(items = 1):\n",
    "    customer_sum = sum([get_customer_profit() for i in range(items)])\n",
    "    return customer_sum\n",
    "\n",
    "def get_total_customer_profit():\n",
    "    n = np.random.random()\n",
    "    if n <= 0.5:\n",
    "        return get_customer_profit_many_items(1)\n",
    "    elif n <= 0.8:\n",
    "        return get_customer_profit_many_items(2)\n",
    "    else:\n",
    "        return get_customer_profit_many_items(3)"
   ]
  },
  {
   "cell_type": "code",
   "execution_count": 183,
   "metadata": {},
   "outputs": [],
   "source": [
    "def run_simulation_many_items():\n",
    "    days = 1000\n",
    "    profits_many_items = []\n",
    "    for day in range(days):\n",
    "        customers = np.floor(np.random.normal(500, 20))\n",
    "        profit = sum([get_total_customer_profit() for c in np.arange(customers)])\n",
    "        profits_many_items.append(profit)\n",
    "    return profits_many_items"
   ]
  },
  {
   "cell_type": "code",
   "execution_count": 184,
   "metadata": {},
   "outputs": [
    {
     "data": {
      "image/png": "[encoded data removed]",
      "text/plain": [
       "<Figure size 432x288 with 1 Axes>"
      ]
     },
     "metadata": {
      "needs_background": "light"
     },
     "output_type": "display_data"
    }
   ],
   "source": [
    "profits_many_items = run_simulation_many_items()\n",
    "plt.hist(profits_many_items, bins = 50)\n",
    "plt.xlabel(\"Profit for \" + str(days) + \" days [$]\")\n",
    "plt.ylabel(\"Count\")\n",
    "plt.show()"
   ]
  },
  {
   "cell_type": "code",
   "execution_count": 185,
   "metadata": {},
   "outputs": [
    {
     "data": {
      "image/png": "[encoded data removed]",
      "text/plain": [
       "<Figure size 432x288 with 1 Axes>"
      ]
     },
     "metadata": {
      "needs_background": "light"
     },
     "output_type": "display_data"
    }
   ],
   "source": [
    "plt.title(\"Comparison of profits: 1 vs 3 items\")\n",
    "plt.hist(profits, bins = 20)\n",
    "plt.hist(profits_many_items, bins = 20)\n",
    "plt.xlabel(\"Profit\")\n",
    "plt.ylabel(\"Count\")\n",
    "plt.show()"
   ]
  },
  {
   "cell_type": "markdown",
   "metadata": {},
   "source": [
    "### ** Problem 5. Monte Carlo Simulation\n",
    "One common technique to apply simulations is called **Monte Carlo simulation**. It's similar to the simulation from the previous example. The main idea is to use random sampling to solve deterministic problems.\n",
    "\n",
    "Research what these simulations are. Give examples. Implement at least one case of a Monte Carlo simulation. You can use the following checklist to help with your research and work:\n",
    "* What is a simulation?\n",
    "    * How is simulation used in science?\n",
    "    * Why is a simulation useful?\n",
    "* How are statistics useful in simulation? How can we simulate unknown, random processes?\n",
    "* What is a Monte Carlo simulation (also known as \"Monte Carlo method\")?\n",
    "* A common use of Monte Carlo methods is numeric integration\n",
    "    * Define the problem. Propose the solution. Implement it and test with some common functions\n",
    "    * How does this method compare to other methods, e.g. the trapezoidal rule? Compare the performance (accuracy and time to execute) of both methods\n",
    "* Apply Monte Carlo simulation to a real-life system. There are many examples. You can see [Wikipedia](https://en.wikipedia.org/wiki/Monte_Carlo_method#Applications) or some other resource for inspiration."
   ]
  },
  {
   "cell_type": "markdown",
   "metadata": {},
   "source": [
    "### ** Problem 6. Probabilistic Data Structures\n",
    "A very interesting application of probability in computer science is a kind of data structures which have a probabilistic behaviour. Examples of these are **Bloom filter**, **Skip list**, **Count-min sketch** and **HyperLogLog**.\n",
    "\n",
    "Research how one of these structures works. Or write about many of them, if you wish. You can use the following checklist as a guide:\n",
    "* What is a data structure? \n",
    "* What is a probabilistic data structure?\n",
    "    * Where does the probabilistic behaviour emerge?\n",
    "    * What advantages do these structures provide?\n",
    "* For your chosen structure, how is it constructed?\n",
    "    * What parts do you need? What are the details?\n",
    "* How does the structure work?\n",
    "    * What operations can you do?\n",
    "    * What are the typical probabilities associated with these operations?\n",
    "* Analyze the structure\n",
    "    * Analyze the runtimes for all operations\n",
    "    * Analyze the space usage\n",
    "    * Compare to a similar, non-probabilistic data structure\n",
    "    * What advantages does the new data structure have? What drawbacks do you need to be aware of?\n",
    "* Give at least one example where this structure is useful\n",
    "    * E.g. Bloom filter - spell checkers\n",
    "    * Analyze the use case\n",
    "    * If possible, implement the use case\n",
    "    * Display some metrics (e.g. % conserved space, % reduced time)"
   ]
  }
 ],
 "metadata": {
  "kernelspec": {
   "display_name": "Python 3 (ipykernel)",
   "language": "python",
   "name": "python3"
  },
  "language_info": {
   "codemirror_mode": {
    "name": "ipython",
    "version": 3
   },
   "file_extension": ".py",
   "mimetype": "text/x-python",
   "name": "python",
   "nbconvert_exporter": "python",
   "pygments_lexer": "ipython3",
   "version": "3.8.5"
  }
 },
 "nbformat": 4,
 "nbformat_minor": 2
}
